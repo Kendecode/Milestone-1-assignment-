{
 "cells": [
  {
   "cell_type": "code",
   "execution_count": 1,
   "id": "7e4aad1e",
   "metadata": {},
   "outputs": [
    {
     "name": "stdout",
     "output_type": "stream",
     "text": [
      "<__main__.policy_holder object at 0x000002AAD98126A0>\n",
      "<__main__.product object at 0x000002AAD985B100>\n",
      "<__main__.payment object at 0x000002AAD986FD00>\n"
     ]
    }
   ],
   "source": [
    "# creating classes for palicy holder, product, and payments\n",
    "class policy_holder:\n",
    "# for policy holders, class arguments are of the following objects using special constructor to initialze detaildescriptions of the holders account     \n",
    "    def __init__(self, name, Dob, account_no , address, phone_no):\n",
    "        self.name = name\n",
    "        self.Dob = Dob\n",
    "        self.account = account_no\n",
    "        self.address = address\n",
    "        self.phone_no = phone_no\n",
    "pH = policy_holder(\"name_id\", \"Dob\", \"account_no\",\"address\", \"phone_no\")\n",
    "print(pH)\n",
    "\n",
    "class product:\n",
    "    \n",
    "    def __init__(self,coverage, product_name, product_id, product_description):\n",
    "        \n",
    "        self.product_name = product_name #general | comprehensive, etc |\n",
    "        self.coverage = coverage # decribes the extent of insurance coverage\n",
    "        self.product_id = product_id # silver/gold or bronze plans \n",
    "        self.product_description = product_description # premium service category\n",
    "        \n",
    "p2 = product(\"car_insurance\", \"coverage_amount\", \"gold_plan\", \"premium\")\n",
    "\n",
    "print(p2)\n",
    "\n",
    "class payment:       \n",
    "    def __init__(self, payment_amount, payment_id, payment_date, payment_method,):\n",
    "        \n",
    "        self.amount = payment_amount # amount payable for product subscription\n",
    "        self.payment_id = payment_id # payment transaction reference\n",
    "        self.payment_date = payment_date\n",
    "        self.payment_method = payment_method # describes the mod of payment as bank transfer, credit card or bank teller\n",
    "        \n",
    "pay = payment(\"Amount_paid\",\"unique_identifier\", \"date_paymentRecieved\", \"transfer\" )\n",
    "\n",
    "print(pay)\n",
    "        "
   ]
  }
 ],
 "metadata": {
  "kernelspec": {
   "display_name": "Python 3 (ipykernel)",
   "language": "python",
   "name": "python3"
  },
  "language_info": {
   "codemirror_mode": {
    "name": "ipython",
    "version": 3
   },
   "file_extension": ".py",
   "mimetype": "text/x-python",
   "name": "python",
   "nbconvert_exporter": "python",
   "pygments_lexer": "ipython3",
   "version": "3.9.12"
  }
 },
 "nbformat": 4,
 "nbformat_minor": 5
}
